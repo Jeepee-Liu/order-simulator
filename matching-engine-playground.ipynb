{
 "cells": [
  {
   "cell_type": "code",
   "execution_count": 2,
   "metadata": {},
   "outputs": [],
   "source": [
    "import pandas as pd\n",
    "import numpy as np\n",
    "import matplotlib.pyplot as plt\n",
    "from sortedcontainers import SortedDict\n",
    "from typing import Optional, Dict, List, Iterable, Union\n",
    "from numbers import Number"
   ]
  },
  {
   "cell_type": "markdown",
   "metadata": {},
   "source": [
    "# `Order` class"
   ]
  },
  {
   "cell_type": "code",
   "execution_count": 1,
   "metadata": {},
   "outputs": [
    {
     "data": {
      "text/plain": [
       "'/Users/jeepee/Documents/coding/python/20191116-matching_engine'"
      ]
     },
     "execution_count": 1,
     "metadata": {},
     "output_type": "execute_result"
    }
   ],
   "source": [
    "pwd"
   ]
  },
  {
   "cell_type": "code",
   "execution_count": 3,
   "metadata": {},
   "outputs": [],
   "source": [
    "class Order(object):\n",
    "    __slots__ = ['_info']\n",
    "    \n",
    "    def __init__(self, order_id : Optional[int] = None, qty : Optional[int] = None):\n",
    "        self._info = {\n",
    "            'order_id': order_id or np.random.randint(np.iinfo(np.int64).max),\n",
    "            'qty': qty or np.random.binomial(50, .5),\n",
    "        }\n",
    "        \n",
    "    @classmethod\n",
    "    def random_init(cls, order_id : Optional[int] = None, qty : Optional[int] = None):\n",
    "        order_id = order_id or np.random.randint(np.iinfo(np.int64).max)\n",
    "        qty = qty or np.random.binomial(50, .5)\n",
    "        return cls(order_id=order_id, qty=qty)\n",
    "    \n",
    "    @property\n",
    "    def order_id(self):\n",
    "        return self._info['order_id']\n",
    "    \n",
    "    @order_id.setter\n",
    "    def order_id(self, order_id):\n",
    "        assert isinstance(order_id, int)\n",
    "        self._info['order_id'] = order_id\n",
    "    \n",
    "    id = order_id\n",
    "    \n",
    "    @property\n",
    "    def qty(self):\n",
    "        return self._info['qty']\n",
    "    \n",
    "    @qty.setter\n",
    "    def qty(self, qty): \n",
    "        assert isinstance(qty, int) and qty > 0\n",
    "        self._info['qty'] = qty\n",
    "        \n",
    "    def __repr__(self):\n",
    "        return f\"[Order {self.order_id:019d}]: {self.qty}\""
   ]
  },
  {
   "cell_type": "code",
   "execution_count": 84,
   "metadata": {},
   "outputs": [
    {
     "data": {
      "text/plain": [
       "[[Order 0139441004816365063]: 27,\n",
       " [Order 7337992240750462657]: 33,\n",
       " [Order 4175219887834108076]: 19,\n",
       " [Order 7767930926837932065]: 23,\n",
       " [Order 0144378561449330759]: 20,\n",
       " [Order 5950026707431916060]: 23,\n",
       " [Order 7251906576287496400]: 25,\n",
       " [Order 1949896409957108417]: 26,\n",
       " [Order 5396319815134860063]: 27,\n",
       " [Order 3699555609910207754]: 21]"
      ]
     },
     "execution_count": 84,
     "metadata": {},
     "output_type": "execute_result"
    }
   ],
   "source": [
    "orders = [Order.random_init() for _ in range(10)]\n",
    "orders"
   ]
  },
  {
   "cell_type": "markdown",
   "metadata": {},
   "source": [
    "# `Side` class"
   ]
  },
  {
   "cell_type": "code",
   "execution_count": 4,
   "metadata": {},
   "outputs": [],
   "source": [
    "from enum import Enum\n",
    "\n",
    "class SideEnum(Enum):\n",
    "    ASK = A = BUY = 1\n",
    "    BID = B = SELL = -1\n",
    "    \n",
    "#     def __init__(self, side: int):\n",
    "#         self._side = side\n",
    "#     def repr(self):\n",
    "        \n",
    "    \n",
    "    @staticmethod\n",
    "    def parse(raw_side: Union[int, str]):\n",
    "        if isinstance(raw_side, int) and raw_side in {-1, 1}:\n",
    "            return SideEnum(raw_side)\n",
    "        elif isinstance(raw_side, str):\n",
    "            if raw_side.upper() in {'A', 'ASK', 'BUY',}:\n",
    "                return SideEnum.ASK\n",
    "            elif raw_side.upper() in {'B', 'BID', 'SELL'}:\n",
    "                return SideEnum.BID\n",
    "            else:\n",
    "                raise ValueError(f'Unrecognized side string: {raw_side}')\n",
    "        else:\n",
    "            raise ValueError(f'Unknown input for side: {raw_side}')"
   ]
  },
  {
   "cell_type": "markdown",
   "metadata": {},
   "source": [
    "# `Level` class"
   ]
  },
  {
   "cell_type": "code",
   "execution_count": 5,
   "metadata": {},
   "outputs": [],
   "source": [
    "class Level(object):\n",
    "    __slots__ = ['_info', '_orders', ]\n",
    "    \n",
    "    def __init__(self, side:str, px:Number, orders:Iterable[Order]):\n",
    "        self._orders: SortedDict = SortedDict((order.id, order) for order in orders)\n",
    "        self._info: Dict = {\n",
    "            'side': SideEnum.parse(side),\n",
    "            'px': px,\n",
    "            'n': len(orders),\n",
    "            'qty': sum(order.qty for order in orders),\n",
    "        }\n",
    "            \n",
    "    @property\n",
    "    def side(self):\n",
    "        return self._info['side']\n",
    "    \n",
    "    @side.setter\n",
    "    def n(self, _side: str):\n",
    "        self._info['side'] = SideEnum.parse(_side)\n",
    "    \n",
    "    @property\n",
    "    def n(self):\n",
    "        return self._info['n']\n",
    "    \n",
    "    @property\n",
    "    def qty(self):\n",
    "        return self._info['qty']\n",
    "    \n",
    "    @property\n",
    "    def px(self):\n",
    "        return self._info['px']\n",
    "    \n",
    "    def __repr__(self):\n",
    "        orders_str = '\\n'.join(f'\\t{order}' for order in self._orders.values())\n",
    "        return f'Level {self._info}' + ' {\\n' + orders_str + '\\n}'"
   ]
  },
  {
   "cell_type": "code",
   "execution_count": 10,
   "metadata": {},
   "outputs": [
    {
     "name": "stdout",
     "output_type": "stream",
     "text": [
      "Level {'side': <SideEnum.ASK: 1>, 'px': 1, 'n': 10, 'qty': 238} {\n",
      "\t[Order 4246909851785831331]: 20\n",
      "\t[Order 4356558097802676014]: 27\n",
      "\t[Order 4540429275259533856]: 23\n",
      "\t[Order 5489272536189099981]: 27\n",
      "\t[Order 5777021801465613654]: 20\n",
      "\t[Order 6542529599735315575]: 25\n",
      "\t[Order 6764380256726452445]: 26\n",
      "\t[Order 7731886554559070654]: 23\n",
      "\t[Order 8406606129049387391]: 28\n",
      "\t[Order 8560084040326508435]: 19\n",
      "}\n"
     ]
    }
   ],
   "source": [
    "orders = [Order.random_init() for _ in range(10)]\n",
    "level = Level('ASK', 1, orders)\n",
    "print(level)"
   ]
  },
  {
   "cell_type": "markdown",
   "metadata": {},
   "source": [
    "# `Side` class"
   ]
  },
  {
   "cell_type": "code",
   "execution_count": null,
   "metadata": {},
   "outputs": [],
   "source": [
    "class Side(object):\n",
    "    def __init__(self, )"
   ]
  },
  {
   "cell_type": "markdown",
   "metadata": {},
   "source": [
    "# `Book` class"
   ]
  },
  {
   "cell_type": "code",
   "execution_count": 7,
   "metadata": {},
   "outputs": [],
   "source": [
    "class Book(object):\n",
    "    def __init__(self):\n",
    "        self._bid = SortedDict()\n",
    "        self._ask = SortedDict()\n",
    "        self._info = {}\n",
    "    \n",
    "    def random_init(self):\n",
    "        for px, count in zip(np.arange(1, 11), np.histogram(np.clip(np.random.poisson(4,1000), 1, 10,), bins=10)[0]):\n",
    "            self._ask[px] = Level(\"ASK\", px, [Order() for _ in range(count)])\n",
    "        for px, count in zip(np.arange(0, -10, -1), np.histogram(np.clip(np.random.poisson(4,1000), 1, 10,), bins=10)[0]):\n",
    "            self._bid[px] = Level(\"BID\", px, [Order() for _ in range(count)])\n",
    "        return self\n",
    "       \n",
    "#     def is_crossed(self) -> bool:\n",
    "#         if \n",
    "    \n",
    "    def imshow(self):\n",
    "        fig, ax = plt.subplots(figsize=(16,10))\n",
    "        ax.barh(self._ask.keys(), [level.qty for level in self._ask.values()], color='red')\n",
    "        ax.barh(self._bid.keys(), [-level.qty for level in self._bid.values()], color='blue')\n",
    "        ax.grid()\n",
    "        ax.set_yticks(range(self._bid.peekitem(0)[0], self._ask.peekitem(-1)[0]+1))\n",
    "        plt.show()\n",
    "        \n",
    "    def __repr__(self):\n",
    "        ask_str = '\\n'.join(f'\\t{level}' for level in self._ask.values())\n",
    "        bid_str = '\\n'.join(f'\\t{level}' for level in self._bid.values())\n",
    "        return f'Book {self._info}' + ' {\\n' + (ask_str + bid_str).replace('\\n', '\\n\\t') + '\\n}'"
   ]
  },
  {
   "cell_type": "code",
   "execution_count": 8,
   "metadata": {},
   "outputs": [
    {
     "data": {
      "image/png": "[encoded data removed]",
      "text/plain": [
       "<Figure size 1152x720 with 1 Axes>"
      ]
     },
     "metadata": {
      "needs_background": "light"
     },
     "output_type": "display_data"
    }
   ],
   "source": [
    "book = Book().random_init()\n",
    "book.imshow()"
   ]
  },
  {
   "cell_type": "code",
   "execution_count": 170,
   "metadata": {},
   "outputs": [
    {
     "data": {
      "text/plain": [
       "(10, Level{'side': <Side.ASK: 1>, 'px': 10, 'n': 5, 'qty': 128} {\n",
       " \t[Order 2226643408282741834]: 24\n",
       " \t[Order 2418386383135485972]: 28\n",
       " \t[Order 3049932791580216144]: 26\n",
       " \t[Order 3744000043744840961]: 32\n",
       " \t[Order 6710011564668667789]: 18\n",
       " })"
      ]
     },
     "execution_count": 170,
     "metadata": {},
     "output_type": "execute_result"
    }
   ],
   "source": [
    "book._ask.peekitem(-1)"
   ]
  },
  {
   "cell_type": "markdown",
   "metadata": {},
   "source": [
    "## Order agent dynamics (discrete time model)\n",
    "\n",
    "Time is preceding frame-by-frame for each timestep. In each step, order agent is \n",
    "\n",
    "### Global state variables\n",
    "\n",
    "Some global state variables visible to all order agents:\n",
    "- `bid_qty0`, `bid_qty1`...\n",
    "- `bid_px0`, `bid_px1`...\n",
    "- `ask_qty0`, `ask_qty1`...\n",
    "- `ask_px0`, `ask_px1`...\n",
    "- `wmid`: can be derived from previous variables\n",
    "- `bid_trade_qty_5s`, `ask_trade_qty_5s`: total trade qty in last 5s on bid/ask\n",
    "\n",
    "- ... **To be completed**\n",
    "\n",
    "### Order state variables\n",
    "#### Explicit state variables\n",
    "Each order is a state machine with following explicit state variables:\n",
    "- `is_existing`: whether the order is in the book.\n",
    "- `px`\n",
    "- `level`\n",
    "- `qty`\n",
    "- `side`\n",
    "- `qty_priority`: the qty before this order\n",
    "- `order_priority`: the number of order before this order\n",
    "\n",
    "\n",
    "#### Implicit state variables\n",
    "Also, each order has some implicit (hidden) state:\n",
    "- `aggressive_willingness`\n",
    "- `remove_willingness`\n",
    "- `retreat_willingness`\n",
    "- `qty_willingness`\n",
    "\n",
    "\n",
    "### Actions allowed for non-existing orders:\n",
    "- `pass()`\n",
    "- `add(px, qty, side)`\n",
    "\n",
    "\n",
    "### Actions allowed for existing orders:\n",
    "\n",
    "- `pass()`\n",
    "- `remove()`\n",
    "- `update_px(px)`\n",
    "- `update_qty(qty)`"
   ]
  },
  {
   "cell_type": "code",
   "execution_count": null,
   "metadata": {},
   "outputs": [],
   "source": [
    "class OrderAgent(object):\n",
    "    def __init__(self):\n",
    "        pass\n",
    "    \n",
    "    @property\n",
    "    def aggressive_willingness(self):\n",
    "        \"\"\"(double) 0.0 - 1.0\"\"\"\n",
    "        return -1.0 # TODO: finish this part"
   ]
  },
  {
   "cell_type": "code",
   "execution_count": null,
   "metadata": {},
   "outputs": [],
   "source": [
    " "
   ]
  },
  {
   "cell_type": "code",
   "execution_count": null,
   "metadata": {},
   "outputs": [],
   "source": []
  },
  {
   "cell_type": "code",
   "execution_count": null,
   "metadata": {},
   "outputs": [],
   "source": []
  },
  {
   "cell_type": "code",
   "execution_count": null,
   "metadata": {},
   "outputs": [],
   "source": []
  },
  {
   "cell_type": "code",
   "execution_count": null,
   "metadata": {},
   "outputs": [],
   "source": []
  },
  {
   "cell_type": "code",
   "execution_count": null,
   "metadata": {},
   "outputs": [],
   "source": []
  },
  {
   "cell_type": "code",
   "execution_count": null,
   "metadata": {},
   "outputs": [],
   "source": []
  },
  {
   "cell_type": "code",
   "execution_count": null,
   "metadata": {},
   "outputs": [],
   "source": []
  }
 ],
 "metadata": {
  "kernelspec": {
   "display_name": "Python 3",
   "language": "python",
   "name": "python3"
  },
  "language_info": {
   "codemirror_mode": {
    "name": "ipython",
    "version": 3
   },
   "file_extension": ".py",
   "mimetype": "text/x-python",
   "name": "python",
   "nbconvert_exporter": "python",
   "pygments_lexer": "ipython3",
   "version": "3.7.6"
  }
 },
 "nbformat": 4,
 "nbformat_minor": 2
}
